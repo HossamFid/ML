{
 "cells": [
  {
   "cell_type": "markdown",
   "metadata": {},
   "source": [
    "# Supervised Learning and K Nearest Neighbors Exercises"
   ]
  },
  {
   "cell_type": "markdown",
   "metadata": {},
   "source": [
    "## Introduction\n",
    "\n",
    "We will be using customer churn data from the telecom industry for this week's exercises. The data file is called \n",
    "`Orange_Telecom_Churn_Data.csv`. We will load this data together, do some preprocessing, and use K-nearest neighbors to predict customer churn based on account characteristics."
   ]
  },
  {
   "cell_type": "code",
   "execution_count": 21,
   "metadata": {
    "ExecuteTime": {
     "end_time": "2017-03-09T17:11:00.462641Z",
     "start_time": "2017-03-09T12:11:00.457060-05:00"
    }
   },
   "outputs": [],
   "source": [
    "from __future__ import print_function\n",
    "import os\n",
    "data_path = ['data']"
   ]
  },
  {
   "cell_type": "markdown",
   "metadata": {},
   "source": [
    "## Question 1\n",
    "\n",
    "* Begin by importing the data. Examine the columns and data.\n",
    "* Notice that the data contains a state, area code, and phone number. Do you think these are good features to use when building a machine learning model? Why or why not? \n",
    "\n",
    "We will not be using them, so they can be dropped from the data."
   ]
  },
  {
   "cell_type": "code",
   "execution_count": 22,
   "metadata": {
    "ExecuteTime": {
     "end_time": "2017-03-09T17:11:00.913456Z",
     "start_time": "2017-03-09T12:11:00.883452-05:00"
    }
   },
   "outputs": [],
   "source": [
    "import pandas as pd\n",
    "\n",
    "# Import the data using the file path\n",
    "filepath = os.sep.join(data_path + ['Orange_Telecom_Churn_Data.csv'])\n",
    "data = pd.read_csv(filepath)"
   ]
  },
  {
   "cell_type": "code",
   "execution_count": 23,
   "metadata": {
    "ExecuteTime": {
     "end_time": "2017-03-09T17:11:01.087485Z",
     "start_time": "2017-03-09T12:11:01.075442-05:00"
    }
   },
   "outputs": [
    {
     "data": {
      "text/html": [
       "<div>\n",
       "<style scoped>\n",
       "    .dataframe tbody tr th:only-of-type {\n",
       "        vertical-align: middle;\n",
       "    }\n",
       "\n",
       "    .dataframe tbody tr th {\n",
       "        vertical-align: top;\n",
       "    }\n",
       "\n",
       "    .dataframe thead th {\n",
       "        text-align: right;\n",
       "    }\n",
       "</style>\n",
       "<table border=\"1\" class=\"dataframe\">\n",
       "  <thead>\n",
       "    <tr style=\"text-align: right;\">\n",
       "      <th></th>\n",
       "      <th>state</th>\n",
       "      <th>account_length</th>\n",
       "      <th>area_code</th>\n",
       "      <th>phone_number</th>\n",
       "      <th>intl_plan</th>\n",
       "      <th>voice_mail_plan</th>\n",
       "      <th>number_vmail_messages</th>\n",
       "      <th>total_day_minutes</th>\n",
       "      <th>total_day_calls</th>\n",
       "      <th>total_day_charge</th>\n",
       "      <th>...</th>\n",
       "      <th>total_eve_calls</th>\n",
       "      <th>total_eve_charge</th>\n",
       "      <th>total_night_minutes</th>\n",
       "      <th>total_night_calls</th>\n",
       "      <th>total_night_charge</th>\n",
       "      <th>total_intl_minutes</th>\n",
       "      <th>total_intl_calls</th>\n",
       "      <th>total_intl_charge</th>\n",
       "      <th>number_customer_service_calls</th>\n",
       "      <th>churned</th>\n",
       "    </tr>\n",
       "  </thead>\n",
       "  <tbody>\n",
       "    <tr>\n",
       "      <th>0</th>\n",
       "      <td>KS</td>\n",
       "      <td>128</td>\n",
       "      <td>415</td>\n",
       "      <td>382-4657</td>\n",
       "      <td>no</td>\n",
       "      <td>yes</td>\n",
       "      <td>25</td>\n",
       "      <td>265.1</td>\n",
       "      <td>110</td>\n",
       "      <td>45.07</td>\n",
       "      <td>...</td>\n",
       "      <td>99</td>\n",
       "      <td>16.78</td>\n",
       "      <td>244.7</td>\n",
       "      <td>91</td>\n",
       "      <td>11.01</td>\n",
       "      <td>10.0</td>\n",
       "      <td>3</td>\n",
       "      <td>2.7</td>\n",
       "      <td>1</td>\n",
       "      <td>False</td>\n",
       "    </tr>\n",
       "  </tbody>\n",
       "</table>\n",
       "<p>1 rows × 21 columns</p>\n",
       "</div>"
      ],
      "text/plain": [
       "  state  account_length  area_code phone_number intl_plan voice_mail_plan  \\\n",
       "0    KS             128        415     382-4657        no             yes   \n",
       "\n",
       "   number_vmail_messages  total_day_minutes  total_day_calls  \\\n",
       "0                     25              265.1              110   \n",
       "\n",
       "   total_day_charge  ...  total_eve_calls  total_eve_charge  \\\n",
       "0             45.07  ...               99             16.78   \n",
       "\n",
       "   total_night_minutes  total_night_calls  total_night_charge  \\\n",
       "0                244.7                 91               11.01   \n",
       "\n",
       "   total_intl_minutes  total_intl_calls  total_intl_charge  \\\n",
       "0                10.0                 3                2.7   \n",
       "\n",
       "   number_customer_service_calls  churned  \n",
       "0                              1    False  \n",
       "\n",
       "[1 rows x 21 columns]"
      ]
     },
     "execution_count": 23,
     "metadata": {},
     "output_type": "execute_result"
    }
   ],
   "source": [
    "data.head(1)"
   ]
  },
  {
   "cell_type": "code",
   "execution_count": 24,
   "metadata": {
    "ExecuteTime": {
     "end_time": "2017-03-09T17:11:01.564122Z",
     "start_time": "2017-03-09T12:11:01.557967-05:00"
    }
   },
   "outputs": [],
   "source": [
    "# Remove extraneous columns\n",
    "data.drop(['state', 'area_code', 'phone_number'], axis=1, inplace=True)"
   ]
  },
  {
   "cell_type": "code",
   "execution_count": 25,
   "metadata": {
    "ExecuteTime": {
     "end_time": "2017-03-09T17:11:02.585712Z",
     "start_time": "2017-03-09T12:11:02.579981-05:00"
    }
   },
   "outputs": [
    {
     "data": {
      "text/plain": [
       "Index(['account_length', 'intl_plan', 'voice_mail_plan',\n",
       "       'number_vmail_messages', 'total_day_minutes', 'total_day_calls',\n",
       "       'total_day_charge', 'total_eve_minutes', 'total_eve_calls',\n",
       "       'total_eve_charge', 'total_night_minutes', 'total_night_calls',\n",
       "       'total_night_charge', 'total_intl_minutes', 'total_intl_calls',\n",
       "       'total_intl_charge', 'number_customer_service_calls', 'churned'],\n",
       "      dtype='object')"
      ]
     },
     "execution_count": 25,
     "metadata": {},
     "output_type": "execute_result"
    }
   ],
   "source": [
    "data.columns"
   ]
  },
  {
   "cell_type": "code",
   "execution_count": 26,
   "metadata": {},
   "outputs": [
    {
     "name": "stdout",
     "output_type": "stream",
     "text": [
      "<class 'pandas.core.frame.DataFrame'>\n",
      "RangeIndex: 5000 entries, 0 to 4999\n",
      "Data columns (total 18 columns):\n",
      " #   Column                         Non-Null Count  Dtype  \n",
      "---  ------                         --------------  -----  \n",
      " 0   account_length                 5000 non-null   int64  \n",
      " 1   intl_plan                      5000 non-null   object \n",
      " 2   voice_mail_plan                5000 non-null   object \n",
      " 3   number_vmail_messages          5000 non-null   int64  \n",
      " 4   total_day_minutes              5000 non-null   float64\n",
      " 5   total_day_calls                5000 non-null   int64  \n",
      " 6   total_day_charge               5000 non-null   float64\n",
      " 7   total_eve_minutes              5000 non-null   float64\n",
      " 8   total_eve_calls                5000 non-null   int64  \n",
      " 9   total_eve_charge               5000 non-null   float64\n",
      " 10  total_night_minutes            5000 non-null   float64\n",
      " 11  total_night_calls              5000 non-null   int64  \n",
      " 12  total_night_charge             5000 non-null   float64\n",
      " 13  total_intl_minutes             5000 non-null   float64\n",
      " 14  total_intl_calls               5000 non-null   int64  \n",
      " 15  total_intl_charge              5000 non-null   float64\n",
      " 16  number_customer_service_calls  5000 non-null   int64  \n",
      " 17  churned                        5000 non-null   bool   \n",
      "dtypes: bool(1), float64(8), int64(7), object(2)\n",
      "memory usage: 669.1+ KB\n"
     ]
    }
   ],
   "source": [
    "data.info()"
   ]
  },
  {
   "cell_type": "markdown",
   "metadata": {},
   "source": [
    "## Question 2\n",
    "\n",
    "* Notice that some of the columns are categorical data and some are floats. These features will need to be numerically encoded using one of the methods from the lecture.\n",
    "* Finally, remember from the lecture that K-nearest neighbors requires scaled data. Scale the data using one of the scaling methods discussed in the lecture."
   ]
  },
  {
   "cell_type": "code",
   "execution_count": 27,
   "metadata": {
    "ExecuteTime": {
     "end_time": "2017-03-09T17:11:04.545751Z",
     "start_time": "2017-03-09T12:11:04.509105-05:00"
    }
   },
   "outputs": [],
   "source": [
    "from sklearn.preprocessing import LabelBinarizer\n",
    "\n",
    "lb = LabelBinarizer()\n",
    "\n",
    "for col in ['intl_plan', 'voice_mail_plan', 'churned']:\n",
    "    data[col] = lb.fit_transform(data[col]) \n",
    "\n",
    "# encoder = LabelEncoder()    \n",
    "# for col in [cols_to_encode]:\n",
    "#    data[col] = encoder.fit_transform(data[col])"
   ]
  },
  {
   "cell_type": "code",
   "execution_count": 28,
   "metadata": {
    "ExecuteTime": {
     "end_time": "2017-03-09T17:11:04.736451Z",
     "start_time": "2017-03-09T12:11:04.718049-05:00"
    }
   },
   "outputs": [],
   "source": [
    "# Mute the sklearn warning\n",
    "import warnings\n",
    "warnings.filterwarnings('ignore', module='sklearn')\n",
    "\n",
    "from sklearn.preprocessing import MinMaxScaler\n",
    "\n",
    "msc = MinMaxScaler()\n",
    "\n",
    "data = pd.DataFrame(msc.fit_transform(data),  # this is an np.array, not a dataframe.\n",
    "                    columns=data.columns)"
   ]
  },
  {
   "cell_type": "code",
   "execution_count": 29,
   "metadata": {},
   "outputs": [
    {
     "data": {
      "text/html": [
       "<div>\n",
       "<style scoped>\n",
       "    .dataframe tbody tr th:only-of-type {\n",
       "        vertical-align: middle;\n",
       "    }\n",
       "\n",
       "    .dataframe tbody tr th {\n",
       "        vertical-align: top;\n",
       "    }\n",
       "\n",
       "    .dataframe thead th {\n",
       "        text-align: right;\n",
       "    }\n",
       "</style>\n",
       "<table border=\"1\" class=\"dataframe\">\n",
       "  <thead>\n",
       "    <tr style=\"text-align: right;\">\n",
       "      <th></th>\n",
       "      <th>account_length</th>\n",
       "      <th>intl_plan</th>\n",
       "      <th>voice_mail_plan</th>\n",
       "      <th>number_vmail_messages</th>\n",
       "      <th>total_day_minutes</th>\n",
       "      <th>total_day_calls</th>\n",
       "      <th>total_day_charge</th>\n",
       "      <th>total_eve_minutes</th>\n",
       "      <th>total_eve_calls</th>\n",
       "      <th>total_eve_charge</th>\n",
       "      <th>total_night_minutes</th>\n",
       "      <th>total_night_calls</th>\n",
       "      <th>total_night_charge</th>\n",
       "      <th>total_intl_minutes</th>\n",
       "      <th>total_intl_calls</th>\n",
       "      <th>total_intl_charge</th>\n",
       "      <th>number_customer_service_calls</th>\n",
       "      <th>churned</th>\n",
       "    </tr>\n",
       "  </thead>\n",
       "  <tbody>\n",
       "    <tr>\n",
       "      <th>0</th>\n",
       "      <td>0.524793</td>\n",
       "      <td>0.0</td>\n",
       "      <td>1.0</td>\n",
       "      <td>0.480769</td>\n",
       "      <td>0.754196</td>\n",
       "      <td>0.666667</td>\n",
       "      <td>0.754183</td>\n",
       "      <td>0.542755</td>\n",
       "      <td>0.582353</td>\n",
       "      <td>0.542866</td>\n",
       "      <td>0.619494</td>\n",
       "      <td>0.520000</td>\n",
       "      <td>0.619584</td>\n",
       "      <td>0.500</td>\n",
       "      <td>0.15</td>\n",
       "      <td>0.500000</td>\n",
       "      <td>0.111111</td>\n",
       "      <td>0.0</td>\n",
       "    </tr>\n",
       "    <tr>\n",
       "      <th>1</th>\n",
       "      <td>0.438017</td>\n",
       "      <td>0.0</td>\n",
       "      <td>1.0</td>\n",
       "      <td>0.500000</td>\n",
       "      <td>0.459744</td>\n",
       "      <td>0.745455</td>\n",
       "      <td>0.459672</td>\n",
       "      <td>0.537531</td>\n",
       "      <td>0.605882</td>\n",
       "      <td>0.537690</td>\n",
       "      <td>0.644051</td>\n",
       "      <td>0.588571</td>\n",
       "      <td>0.644344</td>\n",
       "      <td>0.685</td>\n",
       "      <td>0.15</td>\n",
       "      <td>0.685185</td>\n",
       "      <td>0.111111</td>\n",
       "      <td>0.0</td>\n",
       "    </tr>\n",
       "    <tr>\n",
       "      <th>2</th>\n",
       "      <td>0.561983</td>\n",
       "      <td>0.0</td>\n",
       "      <td>0.0</td>\n",
       "      <td>0.000000</td>\n",
       "      <td>0.692461</td>\n",
       "      <td>0.690909</td>\n",
       "      <td>0.692436</td>\n",
       "      <td>0.333242</td>\n",
       "      <td>0.647059</td>\n",
       "      <td>0.333225</td>\n",
       "      <td>0.411646</td>\n",
       "      <td>0.594286</td>\n",
       "      <td>0.411930</td>\n",
       "      <td>0.610</td>\n",
       "      <td>0.25</td>\n",
       "      <td>0.609259</td>\n",
       "      <td>0.000000</td>\n",
       "      <td>0.0</td>\n",
       "    </tr>\n",
       "    <tr>\n",
       "      <th>3</th>\n",
       "      <td>0.342975</td>\n",
       "      <td>1.0</td>\n",
       "      <td>0.0</td>\n",
       "      <td>0.000000</td>\n",
       "      <td>0.851778</td>\n",
       "      <td>0.430303</td>\n",
       "      <td>0.851740</td>\n",
       "      <td>0.170195</td>\n",
       "      <td>0.517647</td>\n",
       "      <td>0.170171</td>\n",
       "      <td>0.498481</td>\n",
       "      <td>0.508571</td>\n",
       "      <td>0.498593</td>\n",
       "      <td>0.330</td>\n",
       "      <td>0.35</td>\n",
       "      <td>0.329630</td>\n",
       "      <td>0.222222</td>\n",
       "      <td>0.0</td>\n",
       "    </tr>\n",
       "    <tr>\n",
       "      <th>4</th>\n",
       "      <td>0.305785</td>\n",
       "      <td>1.0</td>\n",
       "      <td>0.0</td>\n",
       "      <td>0.000000</td>\n",
       "      <td>0.474253</td>\n",
       "      <td>0.684848</td>\n",
       "      <td>0.474230</td>\n",
       "      <td>0.407754</td>\n",
       "      <td>0.717647</td>\n",
       "      <td>0.407959</td>\n",
       "      <td>0.473165</td>\n",
       "      <td>0.691429</td>\n",
       "      <td>0.473270</td>\n",
       "      <td>0.505</td>\n",
       "      <td>0.15</td>\n",
       "      <td>0.505556</td>\n",
       "      <td>0.333333</td>\n",
       "      <td>0.0</td>\n",
       "    </tr>\n",
       "  </tbody>\n",
       "</table>\n",
       "</div>"
      ],
      "text/plain": [
       "   account_length  intl_plan  voice_mail_plan  number_vmail_messages  \\\n",
       "0        0.524793        0.0              1.0               0.480769   \n",
       "1        0.438017        0.0              1.0               0.500000   \n",
       "2        0.561983        0.0              0.0               0.000000   \n",
       "3        0.342975        1.0              0.0               0.000000   \n",
       "4        0.305785        1.0              0.0               0.000000   \n",
       "\n",
       "   total_day_minutes  total_day_calls  total_day_charge  total_eve_minutes  \\\n",
       "0           0.754196         0.666667          0.754183           0.542755   \n",
       "1           0.459744         0.745455          0.459672           0.537531   \n",
       "2           0.692461         0.690909          0.692436           0.333242   \n",
       "3           0.851778         0.430303          0.851740           0.170195   \n",
       "4           0.474253         0.684848          0.474230           0.407754   \n",
       "\n",
       "   total_eve_calls  total_eve_charge  total_night_minutes  total_night_calls  \\\n",
       "0         0.582353          0.542866             0.619494           0.520000   \n",
       "1         0.605882          0.537690             0.644051           0.588571   \n",
       "2         0.647059          0.333225             0.411646           0.594286   \n",
       "3         0.517647          0.170171             0.498481           0.508571   \n",
       "4         0.717647          0.407959             0.473165           0.691429   \n",
       "\n",
       "   total_night_charge  total_intl_minutes  total_intl_calls  \\\n",
       "0            0.619584               0.500              0.15   \n",
       "1            0.644344               0.685              0.15   \n",
       "2            0.411930               0.610              0.25   \n",
       "3            0.498593               0.330              0.35   \n",
       "4            0.473270               0.505              0.15   \n",
       "\n",
       "   total_intl_charge  number_customer_service_calls  churned  \n",
       "0           0.500000                       0.111111      0.0  \n",
       "1           0.685185                       0.111111      0.0  \n",
       "2           0.609259                       0.000000      0.0  \n",
       "3           0.329630                       0.222222      0.0  \n",
       "4           0.505556                       0.333333      0.0  "
      ]
     },
     "execution_count": 29,
     "metadata": {},
     "output_type": "execute_result"
    }
   ],
   "source": [
    "data.head()"
   ]
  },
  {
   "cell_type": "code",
   "execution_count": 30,
   "metadata": {},
   "outputs": [
    {
     "data": {
      "text/plain": [
       "0.0    3677\n",
       "1.0    1323\n",
       "Name: voice_mail_plan, dtype: int64"
      ]
     },
     "execution_count": 30,
     "metadata": {},
     "output_type": "execute_result"
    }
   ],
   "source": [
    "data.voice_mail_plan.value_counts()"
   ]
  },
  {
   "cell_type": "markdown",
   "metadata": {},
   "source": [
    "## Question 3\n",
    "\n",
    "* Separate the feature columns (everything except `churned`) from the label (`churned`). This will create two tables.\n",
    "* Fit a K-nearest neighbors model with a value of `k=3` to this data and predict the outcome on the same data."
   ]
  },
  {
   "cell_type": "code",
   "execution_count": 31,
   "metadata": {
    "ExecuteTime": {
     "end_time": "2017-03-09T17:11:50.280188Z",
     "start_time": "2017-03-09T12:11:50.269326-05:00"
    }
   },
   "outputs": [],
   "source": [
    "# Get a list of all the columns that don't contain the label\n",
    "x_cols = [x for x in data.columns if x != 'churned']\n",
    "# [x for x in data.columns if x =! 'churned']\n",
    "# Split the data into two dataframes\n",
    "X_data = data[x_cols]\n",
    "y_data = data['churned']\n",
    "\n",
    "# # alternatively:\n",
    "# X_data = data.copy()\n",
    "# y_data = X_data.pop('churned')"
   ]
  },
  {
   "cell_type": "code",
   "execution_count": 32,
   "metadata": {
    "ExecuteTime": {
     "end_time": "2017-03-09T17:11:50.989446Z",
     "start_time": "2017-03-09T12:11:50.498708-05:00"
    }
   },
   "outputs": [],
   "source": [
    "from sklearn.neighbors import KNeighborsClassifier\n",
    "\n",
    "knn = KNeighborsClassifier(n_neighbors=3)\n",
    "\n",
    "knn = knn.fit(X_data, y_data)\n",
    "\n",
    "y_pred = knn.predict(X_data)"
   ]
  },
  {
   "cell_type": "markdown",
   "metadata": {},
   "source": [
    "## Question 4\n",
    "\n",
    "Ways to measure error haven't been discussed in class yet, but accuracy is an easy one to understand--it is simply the percent of labels that were correctly predicted (either true or false). \n",
    "\n",
    "* Write a function to calculate accuracy using the actual and predicted labels.\n",
    "* Using the function, calculate the accuracy of this K-nearest neighbors model on the data."
   ]
  },
  {
   "cell_type": "code",
   "execution_count": 33,
   "metadata": {
    "ExecuteTime": {
     "end_time": "2017-03-09T17:11:50.997204Z",
     "start_time": "2017-03-09T12:11:50.991392-05:00"
    }
   },
   "outputs": [],
   "source": [
    "# Function to calculate the % of values that were correctly predicted\n",
    "\n",
    "def accuracy(real, predict):\n",
    "    return sum(y_data == y_pred) / float(real.shape[0])\n",
    "# def accuracy(actual, predicted):\n",
    "#    return sum(y_data == y_pred) / float(actual.shape[0])"
   ]
  },
  {
   "cell_type": "code",
   "execution_count": 34,
   "metadata": {
    "ExecuteTime": {
     "end_time": "2017-03-09T17:11:51.128466Z",
     "start_time": "2017-03-09T12:11:51.115874-05:00"
    }
   },
   "outputs": [
    {
     "name": "stdout",
     "output_type": "stream",
     "text": [
      "0.9422\n"
     ]
    }
   ],
   "source": [
    "print(accuracy(y_data, y_pred))"
   ]
  },
  {
   "cell_type": "markdown",
   "metadata": {},
   "source": [
    "## Question 5\n",
    "\n",
    "* Fit the K-nearest neighbors model again with `n_neighbors=3` but this time use distance for the weights. Calculate the accuracy using the function you created above. \n",
    "* Fit another K-nearest neighbors model. This time use uniform weights but set the power parameter for the Minkowski distance metric to be 1 (`p=1`) i.e. Manhattan Distance.\n",
    "\n",
    "When weighted distances are used for part 1 of this question, a value of 1.0 should be returned for the accuracy. Why do you think this is? *Hint:* we are predicting on the data and with KNN the model *is* the data. We will learn how to avoid this pitfall in the next lecture."
   ]
  },
  {
   "cell_type": "code",
   "execution_count": 43,
   "metadata": {
    "ExecuteTime": {
     "end_time": "2017-03-09T17:11:52.047123Z",
     "start_time": "2017-03-09T12:11:51.538212-05:00"
    }
   },
   "outputs": [],
   "source": [
    "#Student writes code here\n",
    "from sklearn.neighbors import KNeighborsClassifier \n",
    "\n",
    "knn = KNeighborsClassifier(n_neighbors = 3 , p=1)\n",
    "knn.fit(X_data, y_data)\n",
    "y_pred = knn.predict(X_data)"
   ]
  },
  {
   "cell_type": "code",
   "execution_count": 44,
   "metadata": {
    "ExecuteTime": {
     "end_time": "2017-03-09T17:11:52.755941Z",
     "start_time": "2017-03-09T12:11:52.049816-05:00"
    }
   },
   "outputs": [
    {
     "data": {
      "text/plain": [
       "0.9456"
      ]
     },
     "execution_count": 44,
     "metadata": {},
     "output_type": "execute_result"
    }
   ],
   "source": [
    "def accuracy(actual, predicted):\n",
    "    return sum(y_data == y_pred) / float(actual.shape[0])\n",
    "accuracy(y_data, y_pred)"
   ]
  },
  {
   "cell_type": "markdown",
   "metadata": {},
   "source": [
    "## Question 6\n",
    "\n",
    "* Fit a K-nearest neighbors model using values of `k` (`n_neighbors`) ranging from 1 to 20. Use uniform weights (the default). The coefficient for the Minkowski distance (`p`) can be set to either 1 or 2--just be consistent. Store the accuracy and the value of `k` used from each of these fits in a list or dictionary.\n",
    "* Plot (or view the table of) the `accuracy` vs `k`. What do you notice happens when `k=1`? Why do you think this is? *Hint:* it's for the same reason discussed above."
   ]
  },
  {
   "cell_type": "code",
   "execution_count": null,
   "metadata": {
    "ExecuteTime": {
     "end_time": "2017-03-09T17:12:01.329053Z",
     "start_time": "2017-03-09T12:11:52.759302-05:00"
    }
   },
   "outputs": [],
   "source": [
    "#Student writes code here"
   ]
  },
  {
   "cell_type": "code",
   "execution_count": 46,
   "metadata": {
    "ExecuteTime": {
     "end_time": "2017-03-09T17:12:01.829160Z",
     "start_time": "2017-03-09T12:12:01.331021-05:00"
    }
   },
   "outputs": [],
   "source": [
    "accuracy = list()\n",
    "k_range = range(1,21)\n",
    "\n",
    "    \n",
    "for k in k_range:\n",
    "    knn = KNeighborsClassifier(n_neighbors = k , p =2 ) # euclidean_distance \n",
    "    knn.fit(X_data, y_data)\n",
    "    y_pred = knn.predict(X_data)\n",
    "    score = sum(y_pred) / float(y_data.shape[0])\n",
    "    accuracy.append(score)"
   ]
  },
  {
   "cell_type": "code",
   "execution_count": 50,
   "metadata": {
    "ExecuteTime": {
     "end_time": "2017-03-09T17:12:02.238935Z",
     "start_time": "2017-03-09T12:12:01.831094-05:00"
    }
   },
   "outputs": [
    {
     "data": {
      "image/png": "[encoded data removed]",
      "text/plain": [
       "<Figure size 432x288 with 1 Axes>"
      ]
     },
     "metadata": {
      "needs_background": "light"
     },
     "output_type": "display_data"
    }
   ],
   "source": [
    "import matplotlib.pyplot as plt \n",
    "%matplotlib inline \n",
    "\n",
    "plt.plot(k_range, accuracy);\n",
    "plt.grid()"
   ]
  },
  {
   "cell_type": "code",
   "execution_count": null,
   "metadata": {},
   "outputs": [],
   "source": []
  }
 ],
 "metadata": {
  "anaconda-cloud": {},
  "kernelspec": {
   "display_name": "Python 3",
   "language": "python",
   "name": "python3"
  },
  "language_info": {
   "codemirror_mode": {
    "name": "ipython",
    "version": 3
   },
   "file_extension": ".py",
   "mimetype": "text/x-python",
   "name": "python",
   "nbconvert_exporter": "python",
   "pygments_lexer": "ipython3",
   "version": "3.8.0"
  },
  "name": "Linear_Regression_and_K_Nearest_Neighbors_Exercises-ANSWERS",
  "notebookId": 2125319687183902
 },
 "nbformat": 4,
 "nbformat_minor": 1
}
